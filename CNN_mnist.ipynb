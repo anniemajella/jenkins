{
  "nbformat": 4,
  "nbformat_minor": 0,
  "metadata": {
    "colab": {
      "provenance": [],
      "authorship_tag": "ABX9TyPwgikx+jzR0SEU4FXBxplm",
      "include_colab_link": true
    },
    "kernelspec": {
      "name": "python3",
      "display_name": "Python 3"
    },
    "language_info": {
      "name": "python"
    }
  },
  "cells": [
    {
      "cell_type": "markdown",
      "metadata": {
        "id": "view-in-github",
        "colab_type": "text"
      },
      "source": [
        "<a href=\"https://colab.research.google.com/github/anniemajella/jenkins/blob/main/CNN_mnist.ipynb\" target=\"_parent\"><img src=\"https://colab.research.google.com/assets/colab-badge.svg\" alt=\"Open In Colab\"/></a>"
      ]
    },
    {
      "cell_type": "code",
      "execution_count": null,
      "metadata": {
        "id": "LPd8G67NPhE6"
      },
      "outputs": [],
      "source": [
        "import numpy as np\n",
        "import tensorflow as tf\n",
        "import keras\n",
        "from keras.datasets import mnist\n",
        "from keras.models import Sequential\n",
        "from keras.layers import Dense, Dropout, Flatten, Conv2D, MaxPooling2D"
      ]
    },
    {
      "cell_type": "code",
      "source": [
        "import warnings\n",
        "warnings.filterwarnings('ignore')"
      ],
      "metadata": {
        "id": "ujX7fs5TP0ns"
      },
      "execution_count": null,
      "outputs": []
    },
    {
      "cell_type": "code",
      "source": [
        "batch_size=128\n",
        "num_classes=10\n",
        "epochs=10"
      ],
      "metadata": {
        "id": "QpWeTebhP__r"
      },
      "execution_count": null,
      "outputs": []
    },
    {
      "cell_type": "code",
      "source": [
        "(x_train,y_train),(x_test,y_test)=mnist.load_data()\n",
        "x_train=x_train.reshape(60000,28,28,1)\n",
        "x_test=x_test.reshape(10000,28,28,1)\n",
        "x_train=x_train.astype('float32')\n",
        "x_test=x_test.astype('float32')"
      ],
      "metadata": {
        "id": "DYm7JflAQQ3U",
        "colab": {
          "base_uri": "https://localhost:8080/"
        },
        "outputId": "edb15664-0f41-4008-f1b3-8fcc259ef752"
      },
      "execution_count": null,
      "outputs": [
        {
          "output_type": "stream",
          "name": "stdout",
          "text": [
            "Downloading data from https://storage.googleapis.com/tensorflow/tf-keras-datasets/mnist.npz\n",
            "11490434/11490434 [==============================] - 1s 0us/step\n"
          ]
        }
      ]
    },
    {
      "cell_type": "code",
      "source": [
        "x_train /=255\n",
        "x_test /=255\n",
        "print(x_train.shape[0],'train samples')\n",
        "print(x_test.shape[0],'test samples')"
      ],
      "metadata": {
        "colab": {
          "base_uri": "https://localhost:8080/"
        },
        "id": "mOPbodBJRISZ",
        "outputId": "f939e7a1-fd83-445a-a13b-39c8b6a6b772"
      },
      "execution_count": null,
      "outputs": [
        {
          "output_type": "stream",
          "name": "stdout",
          "text": [
            "60000 train samples\n",
            "10000 test samples\n"
          ]
        }
      ]
    },
    {
      "cell_type": "code",
      "source": [
        "from tensorflow.keras.utils import to_categorical\n",
        "y_train=to_categorical(y_train,num_classes)\n",
        "y_test=to_categorical(y_test,num_classes)"
      ],
      "metadata": {
        "id": "n3zsfj1kR2zQ"
      },
      "execution_count": null,
      "outputs": []
    },
    {
      "cell_type": "code",
      "source": [
        "import pylab as plt\n",
        "print('label:',y_test[400:401])\n",
        "plt.imshow(x_test[400:401].reshape(28,28),cmap='gray')\n",
        "plt.show()"
      ],
      "metadata": {
        "colab": {
          "base_uri": "https://localhost:8080/",
          "height": 448
        },
        "id": "mfoBAHaRSdEX",
        "outputId": "6bda2335-a68c-487b-9890-edc89a34c867"
      },
      "execution_count": null,
      "outputs": [
        {
          "output_type": "stream",
          "name": "stdout",
          "text": [
            "label: [[0. 0. 1. 0. 0. 0. 0. 0. 0. 0.]]\n"
          ]
        },
        {
          "output_type": "display_data",
          "data": {
            "text/plain": [
              "<Figure size 640x480 with 1 Axes>"
            ],
            "image/png": "[encoded data removed]"
          },
          "metadata": {}
        }
      ]
    },
    {
      "cell_type": "code",
      "source": [
        "model = Sequential()\n",
        "model.add(Conv2D(8, kernel_size = (3,3), activation = 'relu', input_shape = (28,28,1)))\n",
        "model.add(Conv2D(filters = 16, kernel_size = (3,3), activation = 'relu'))\n",
        "model.add(MaxPooling2D(pool_size= (2,2)))\n",
        "model.add(Dropout(0.25))\n",
        "model.add(Flatten())\n",
        "model.add(Dense(32,activation = 'relu'))\n",
        "model.add(Dropout(0.5))\n",
        "model.add(Dense(num_classes, activation = 'softmax'))"
      ],
      "metadata": {
        "id": "ueqPPHrESlfe"
      },
      "execution_count": null,
      "outputs": []
    },
    {
      "cell_type": "code",
      "source": [
        "model.summary()\n"
      ],
      "metadata": {
        "colab": {
          "base_uri": "https://localhost:8080/"
        },
        "id": "ElqFXVFpSm82",
        "outputId": "4425008d-3cb0-43ba-81c0-7ba3dc7745c0"
      },
      "execution_count": null,
      "outputs": [
        {
          "output_type": "stream",
          "name": "stdout",
          "text": [
            "Model: \"sequential\"\n",
            "_________________________________________________________________\n",
            " Layer (type)                Output Shape              Param #   \n",
            "=================================================================\n",
            " conv2d (Conv2D)             (None, 26, 26, 8)         80        \n",
            "                                                                 \n",
            " conv2d_1 (Conv2D)           (None, 24, 24, 16)        1168      \n",
            "                                                                 \n",
            " max_pooling2d (MaxPooling2D  (None, 12, 12, 16)       0         \n",
            " )                                                               \n",
            "                                                                 \n",
            " dropout (Dropout)           (None, 12, 12, 16)        0         \n",
            "                                                                 \n",
            " flatten (Flatten)           (None, 2304)              0         \n",
            "                                                                 \n",
            " dense (Dense)               (None, 32)                73760     \n",
            "                                                                 \n",
            " dropout_1 (Dropout)         (None, 32)                0         \n",
            "                                                                 \n",
            " dense_1 (Dense)             (None, 10)                330       \n",
            "                                                                 \n",
            "=================================================================\n",
            "Total params: 75,338\n",
            "Trainable params: 75,338\n",
            "Non-trainable params: 0\n",
            "_________________________________________________________________\n"
          ]
        }
      ]
    },
    {
      "cell_type": "code",
      "source": [
        "model.compile(loss = keras.losses.categorical_crossentropy, optimizer = tf.keras.optimizers.Adam(), metrics = ['accuracy'])"
      ],
      "metadata": {
        "id": "aiKfTxkpSpx_"
      },
      "execution_count": null,
      "outputs": []
    },
    {
      "cell_type": "code",
      "source": [
        "model.fit(x_train, y_train, batch_size = batch_size, epochs = epochs, verbose = 1, validation_data = (x_test,y_test))"
      ],
      "metadata": {
        "colab": {
          "base_uri": "https://localhost:8080/"
        },
        "id": "PkqimnHoSssI",
        "outputId": "a862e8a4-bdbf-4546-e70c-8984685f5012"
      },
      "execution_count": null,
      "outputs": [
        {
          "output_type": "stream",
          "name": "stdout",
          "text": [
            "Epoch 1/10\n",
            "469/469 [==============================] - 53s 110ms/step - loss: 0.6358 - accuracy: 0.7979 - val_loss: 0.1295 - val_accuracy: 0.9621\n",
            "Epoch 2/10\n",
            "469/469 [==============================] - 39s 83ms/step - loss: 0.3105 - accuracy: 0.9029 - val_loss: 0.0861 - val_accuracy: 0.9740\n",
            "Epoch 3/10\n",
            "469/469 [==============================] - 40s 86ms/step - loss: 0.2509 - accuracy: 0.9200 - val_loss: 0.0692 - val_accuracy: 0.9775\n",
            "Epoch 4/10\n",
            "469/469 [==============================] - 40s 85ms/step - loss: 0.2151 - accuracy: 0.9320 - val_loss: 0.0592 - val_accuracy: 0.9816\n",
            "Epoch 5/10\n",
            "469/469 [==============================] - 47s 101ms/step - loss: 0.1953 - accuracy: 0.9371 - val_loss: 0.0566 - val_accuracy: 0.9805\n",
            "Epoch 6/10\n",
            "469/469 [==============================] - 40s 86ms/step - loss: 0.1794 - accuracy: 0.9422 - val_loss: 0.0526 - val_accuracy: 0.9828\n",
            "Epoch 7/10\n",
            "469/469 [==============================] - 38s 82ms/step - loss: 0.1673 - accuracy: 0.9456 - val_loss: 0.0469 - val_accuracy: 0.9843\n",
            "Epoch 8/10\n",
            "469/469 [==============================] - 38s 81ms/step - loss: 0.1611 - accuracy: 0.9472 - val_loss: 0.0469 - val_accuracy: 0.9849\n",
            "Epoch 9/10\n",
            "469/469 [==============================] - 38s 81ms/step - loss: 0.1508 - accuracy: 0.9513 - val_loss: 0.0464 - val_accuracy: 0.9844\n",
            "Epoch 10/10\n",
            "469/469 [==============================] - 39s 83ms/step - loss: 0.1441 - accuracy: 0.9528 - val_loss: 0.0451 - val_accuracy: 0.9856\n"
          ]
        },
        {
          "output_type": "execute_result",
          "data": {
            "text/plain": [
              "<keras.callbacks.History at 0x7ff2ac7b2f20>"
            ]
          },
          "metadata": {},
          "execution_count": 11
        }
      ]
    },
    {
      "cell_type": "code",
      "source": [
        "score = model.evaluate(x_test,y_test, verbose = 0)\n",
        "print('Test Loss: ', score[0])\n",
        "print('Test Accuracy: ', score[1])\n"
      ],
      "metadata": {
        "id": "2w62JDzTSzRQ",
        "colab": {
          "base_uri": "https://localhost:8080/"
        },
        "outputId": "eab67082-0007-439c-a20e-55ce1db12c65"
      },
      "execution_count": null,
      "outputs": [
        {
          "output_type": "stream",
          "name": "stdout",
          "text": [
            "Test Loss:  0.04511117935180664\n",
            "Test Accuracy:  0.9855999946594238\n"
          ]
        }
      ]
    },
    {
      "cell_type": "code",
      "source": [
        "import pylab as plt\n",
        "plt.imshow(x_test[230:231].reshape(28,28), cmap= 'gray')\n",
        "plt.show()\n"
      ],
      "metadata": {
        "id": "F48nC4s0S3jB",
        "colab": {
          "base_uri": "https://localhost:8080/"
        },
        "outputId": "18f6fd0d-5817-4b4b-9ff7-88bcbab55515"
      },
      "execution_count": null,
      "outputs": [
        {
          "output_type": "display_data",
          "data": {
            "text/plain": [
              "<Figure size 640x480 with 1 Axes>"
            ],
            "image/png": "[encoded data removed]"
          },
          "metadata": {}
        }
      ]
    },
    {
      "cell_type": "code",
      "source": [
        "import numpy as np\n",
        "prediction = model.predict(x_test[230:231])\n",
        "print('Prediction score:\\n',prediction[0])\n",
        "thresholded = (prediction > 0.5) * 1\n",
        "print('\\nThresholded score:\\n',thresholded[0])\n",
        "print('Predicted digit:\\n',np.where(thresholded == 1)[1][0])"
      ],
      "metadata": {
        "id": "OmIhG-OWS57x",
        "colab": {
          "base_uri": "https://localhost:8080/"
        },
        "outputId": "ebfdf959-a5f1-4a22-8c96-518c1aab2e76"
      },
      "execution_count": null,
      "outputs": [
        {
          "output_type": "stream",
          "name": "stdout",
          "text": [
            "1/1 [==============================] - 0s 105ms/step\n",
            "Prediction score:\n",
            " [1.0243889e-09 1.2782225e-06 2.5642671e-06 9.9780661e-01 7.3506441e-09\n",
            " 2.0762079e-03 2.3648176e-06 1.2062894e-06 8.7007407e-05 2.2606444e-05]\n",
            "\n",
            "Thresholded score:\n",
            " [0 0 0 1 0 0 0 0 0 0]\n",
            "Predicted digit:\n",
            " 3\n"
          ]
        }
      ]
    }
  ]
}