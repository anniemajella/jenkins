{
  "nbformat": 4,
  "nbformat_minor": 0,
  "metadata": {
    "colab": {
      "provenance": [],
      "authorship_tag": "ABX9TyNFiC6GgrNsSqoRmz6ZWk0I",
      "include_colab_link": true
    },
    "kernelspec": {
      "name": "python3",
      "display_name": "Python 3"
    },
    "language_info": {
      "name": "python"
    }
  },
  "cells": [
    {
      "cell_type": "markdown",
      "metadata": {
        "id": "view-in-github",
        "colab_type": "text"
      },
      "source": [
        "<a href=\"https://colab.research.google.com/github/anniemajella/jenkins/blob/main/RNN.ipynb\" target=\"_parent\"><img src=\"https://colab.research.google.com/assets/colab-badge.svg\" alt=\"Open In Colab\"/></a>"
      ]
    },
    {
      "cell_type": "code",
      "execution_count": null,
      "metadata": {
        "id": "kvrNVnPEbKN7"
      },
      "outputs": [],
      "source": [
        "# Importing the libraries\n",
        "import pandas as pd\n",
        "import numpy as np\n",
        "from sklearn.model_selection import train_test_split\n",
        "from keras.datasets import reuters\n",
        "import tensorflow as tf\n",
        "from tensorflow.keras.preprocessing.sequence import pad_sequences\n",
        "from keras.models import Sequential\n",
        "from tensorflow.keras.utils import to_categorical\n",
        "from keras.layers import Dense, SimpleRNN, Activation, LSTM, GRU\n",
        "from tensorflow.keras.optimizers import Adam\n",
        "from sklearn.metrics import accuracy_score"
      ]
    },
    {
      "cell_type": "code",
      "source": [
        "#Initializing the values\n",
        "num_words = None\n",
        "maxlen = 50\n",
        "test_split = 0.3\n"
      ],
      "metadata": {
        "id": "ky9nDwLQbe2d"
      },
      "execution_count": null,
      "outputs": []
    },
    {
      "cell_type": "code",
      "source": [
        "#Splitting the dataset into train and test sets\n",
        "(x_train,y_train),(x_test,y_test) = reuters.load_data(num_words = num_words, maxlen = maxlen, test_split = test_split)"
      ],
      "metadata": {
        "id": "tRS39Ec7cCB1",
        "colab": {
          "base_uri": "https://localhost:8080/"
        },
        "outputId": "9619bc96-991f-45dd-beb6-acfdfb4be14c"
      },
      "execution_count": null,
      "outputs": [
        {
          "output_type": "stream",
          "name": "stdout",
          "text": [
            "Downloading data from https://storage.googleapis.com/tensorflow/tf-keras-datasets/reuters.npz\n",
            "2110848/2110848 [==============================] - 0s 0us/step\n"
          ]
        }
      ]
    },
    {
      "cell_type": "code",
      "source": [
        "print(x_train.shape)\n",
        "print(x_test.shape)\n",
        "print(y_train.shape)\n",
        "print(y_test.shape)\n"
      ],
      "metadata": {
        "colab": {
          "base_uri": "https://localhost:8080/"
        },
        "id": "s5JO_-w5cGlf",
        "outputId": "9053bdb3-cfa2-4778-de21-85065d2dcd6b"
      },
      "execution_count": null,
      "outputs": [
        {
          "output_type": "stream",
          "name": "stdout",
          "text": [
            "(1395,)\n",
            "(599,)\n",
            "(1395,)\n",
            "(599,)\n"
          ]
        }
      ]
    },
    {
      "cell_type": "code",
      "source": [
        "from numpy.core.fromnumeric import shape\n",
        "\n",
        "x_train = pad_sequences(x_train, padding = 'post')\n",
        "x_test = pad_sequences(x_test, padding = 'post')"
      ],
      "metadata": {
        "id": "RxQ599CqcdZZ"
      },
      "execution_count": null,
      "outputs": []
    },
    {
      "cell_type": "code",
      "source": [
        "\n",
        "x_train = np.array(x_train).reshape((x_train.shape[0],x_train.shape[1],1))\n",
        "x_test = np.array(x_test).reshape((x_test.shape[0],x_test.shape[1],1))"
      ],
      "metadata": {
        "id": "wlM6rFk-cdXA"
      },
      "execution_count": null,
      "outputs": []
    },
    {
      "cell_type": "code",
      "source": [
        "x_train.shape, x_test.shape\n",
        "y_train.shape, y_test.shape"
      ],
      "metadata": {
        "colab": {
          "base_uri": "https://localhost:8080/"
        },
        "id": "w36shrAncdUI",
        "outputId": "98855e93-6ebb-41e7-a5e3-462be6cbac11"
      },
      "execution_count": null,
      "outputs": [
        {
          "output_type": "execute_result",
          "data": {
            "text/plain": [
              "((1395,), (599,))"
            ]
          },
          "metadata": {},
          "execution_count": 7
        }
      ]
    },
    {
      "cell_type": "code",
      "source": [
        "y_data = np.concatenate((y_train,y_test))\n",
        "\n"
      ],
      "metadata": {
        "id": "_c3HVS0BcdSI"
      },
      "execution_count": null,
      "outputs": []
    },
    {
      "cell_type": "code",
      "source": [
        "y_data = to_categorical(y_data)\n",
        "y_train = y_data[:1395]\n",
        "y_test = y_data[1395:]"
      ],
      "metadata": {
        "id": "SboYDibncdP5"
      },
      "execution_count": null,
      "outputs": []
    },
    {
      "cell_type": "code",
      "source": [
        "#Simple RNN\n",
        "model = Sequential()\n",
        "model.add(SimpleRNN(50, input_shape=(49,1)))\n",
        "model.add(Dense(46))\n",
        "model.add(Activation('softmax'))\n"
      ],
      "metadata": {
        "id": "KaOe7jFFcdNY"
      },
      "execution_count": null,
      "outputs": []
    },
    {
      "cell_type": "code",
      "source": [
        "adam = Adam(lr = 0.001)"
      ],
      "metadata": {
        "colab": {
          "base_uri": "https://localhost:8080/"
        },
        "id": "S1tI0YIycdGP",
        "outputId": "8c0f2190-9ac1-48d9-8555-58e16d1d6e28"
      },
      "execution_count": null,
      "outputs": [
        {
          "output_type": "stream",
          "name": "stderr",
          "text": [
            "WARNING:absl:`lr` is deprecated in Keras optimizer, please use `learning_rate` or use the legacy optimizer, e.g.,tf.keras.optimizers.legacy.Adam.\n"
          ]
        }
      ]
    },
    {
      "cell_type": "code",
      "source": [
        "#Model compilation\n",
        "model.compile(loss = 'categorical_crossentropy', optimizer = adam, metrics = ['accuracy'])\n",
        "model.fit(x_train,y_train, epochs = 100, validation_split=0.3)\n"
      ],
      "metadata": {
        "colab": {
          "base_uri": "https://localhost:8080/"
        },
        "id": "ILS_4mX1cclZ",
        "outputId": "b67934f7-6648-4bf0-b1f7-dcedcc340296"
      },
      "execution_count": null,
      "outputs": [
        {
          "output_type": "stream",
          "name": "stdout",
          "text": [
            "Epoch 1/100\n",
            "31/31 [==============================] - 4s 50ms/step - loss: 3.0320 - accuracy: 0.4385 - val_loss: 1.8700 - val_accuracy: 0.6897\n",
            "Epoch 2/100\n",
            "31/31 [==============================] - 1s 20ms/step - loss: 1.4307 - accuracy: 0.7141 - val_loss: 1.2189 - val_accuracy: 0.7160\n",
            "Epoch 3/100\n",
            "31/31 [==============================] - 1s 25ms/step - loss: 1.2124 - accuracy: 0.7141 - val_loss: 1.1719 - val_accuracy: 0.7160\n",
            "Epoch 4/100\n",
            "31/31 [==============================] - 1s 29ms/step - loss: 1.1878 - accuracy: 0.7141 - val_loss: 1.1611 - val_accuracy: 0.7160\n",
            "Epoch 5/100\n",
            "31/31 [==============================] - 1s 25ms/step - loss: 1.1762 - accuracy: 0.7141 - val_loss: 1.1534 - val_accuracy: 0.7160\n",
            "Epoch 6/100\n",
            "31/31 [==============================] - 1s 26ms/step - loss: 1.1755 - accuracy: 0.7141 - val_loss: 1.1521 - val_accuracy: 0.7160\n",
            "Epoch 7/100\n",
            "31/31 [==============================] - 1s 39ms/step - loss: 1.1666 - accuracy: 0.7141 - val_loss: 1.1532 - val_accuracy: 0.7160\n",
            "Epoch 8/100\n",
            "31/31 [==============================] - 1s 33ms/step - loss: 1.1646 - accuracy: 0.7141 - val_loss: 1.1471 - val_accuracy: 0.7160\n",
            "Epoch 9/100\n",
            "31/31 [==============================] - 1s 31ms/step - loss: 1.1639 - accuracy: 0.7141 - val_loss: 1.1461 - val_accuracy: 0.7160\n",
            "Epoch 10/100\n",
            "31/31 [==============================] - 0s 12ms/step - loss: 1.1626 - accuracy: 0.7141 - val_loss: 1.1464 - val_accuracy: 0.7160\n",
            "Epoch 11/100\n",
            "31/31 [==============================] - 0s 12ms/step - loss: 1.1583 - accuracy: 0.7141 - val_loss: 1.1493 - val_accuracy: 0.7160\n",
            "Epoch 12/100\n",
            "31/31 [==============================] - 0s 12ms/step - loss: 1.1592 - accuracy: 0.7141 - val_loss: 1.1457 - val_accuracy: 0.7160\n",
            "Epoch 13/100\n",
            "31/31 [==============================] - 0s 12ms/step - loss: 1.1566 - accuracy: 0.7141 - val_loss: 1.1477 - val_accuracy: 0.7160\n",
            "Epoch 14/100\n",
            "31/31 [==============================] - 0s 13ms/step - loss: 1.1536 - accuracy: 0.7141 - val_loss: 1.1486 - val_accuracy: 0.7160\n",
            "Epoch 15/100\n",
            "31/31 [==============================] - 0s 12ms/step - loss: 1.1526 - accuracy: 0.7141 - val_loss: 1.1482 - val_accuracy: 0.7160\n",
            "Epoch 16/100\n",
            "31/31 [==============================] - 0s 12ms/step - loss: 1.1520 - accuracy: 0.7141 - val_loss: 1.1508 - val_accuracy: 0.7160\n",
            "Epoch 17/100\n",
            "31/31 [==============================] - 0s 12ms/step - loss: 1.1515 - accuracy: 0.7141 - val_loss: 1.1610 - val_accuracy: 0.7160\n",
            "Epoch 18/100\n",
            "31/31 [==============================] - 0s 12ms/step - loss: 1.1498 - accuracy: 0.7141 - val_loss: 1.1483 - val_accuracy: 0.7160\n",
            "Epoch 19/100\n",
            "31/31 [==============================] - 0s 12ms/step - loss: 1.1467 - accuracy: 0.7141 - val_loss: 1.1503 - val_accuracy: 0.7160\n",
            "Epoch 20/100\n",
            "31/31 [==============================] - 0s 12ms/step - loss: 1.1455 - accuracy: 0.7141 - val_loss: 1.1489 - val_accuracy: 0.7160\n",
            "Epoch 21/100\n",
            "31/31 [==============================] - 0s 12ms/step - loss: 1.1450 - accuracy: 0.7141 - val_loss: 1.1469 - val_accuracy: 0.7160\n",
            "Epoch 22/100\n",
            "31/31 [==============================] - 0s 12ms/step - loss: 1.1430 - accuracy: 0.7141 - val_loss: 1.1504 - val_accuracy: 0.7160\n",
            "Epoch 23/100\n",
            "31/31 [==============================] - 0s 15ms/step - loss: 1.1427 - accuracy: 0.7141 - val_loss: 1.1508 - val_accuracy: 0.7160\n",
            "Epoch 24/100\n",
            "31/31 [==============================] - 0s 11ms/step - loss: 1.1428 - accuracy: 0.7141 - val_loss: 1.1512 - val_accuracy: 0.7160\n",
            "Epoch 25/100\n",
            "31/31 [==============================] - 0s 12ms/step - loss: 1.1405 - accuracy: 0.7141 - val_loss: 1.1507 - val_accuracy: 0.7160\n",
            "Epoch 26/100\n",
            "31/31 [==============================] - 0s 11ms/step - loss: 1.1449 - accuracy: 0.7162 - val_loss: 1.1581 - val_accuracy: 0.7160\n",
            "Epoch 27/100\n",
            "31/31 [==============================] - 0s 12ms/step - loss: 1.1397 - accuracy: 0.7141 - val_loss: 1.1531 - val_accuracy: 0.7160\n",
            "Epoch 28/100\n",
            "31/31 [==============================] - 0s 12ms/step - loss: 1.1357 - accuracy: 0.7141 - val_loss: 1.1522 - val_accuracy: 0.7160\n",
            "Epoch 29/100\n",
            "31/31 [==============================] - 0s 13ms/step - loss: 1.1404 - accuracy: 0.7141 - val_loss: 1.1549 - val_accuracy: 0.7160\n",
            "Epoch 30/100\n",
            "31/31 [==============================] - 0s 12ms/step - loss: 1.1345 - accuracy: 0.7141 - val_loss: 1.1541 - val_accuracy: 0.7160\n",
            "Epoch 31/100\n",
            "31/31 [==============================] - 0s 12ms/step - loss: 1.1321 - accuracy: 0.7141 - val_loss: 1.1531 - val_accuracy: 0.7160\n",
            "Epoch 32/100\n",
            "31/31 [==============================] - 0s 12ms/step - loss: 1.1311 - accuracy: 0.7141 - val_loss: 1.1557 - val_accuracy: 0.7160\n",
            "Epoch 33/100\n",
            "31/31 [==============================] - 0s 13ms/step - loss: 1.1313 - accuracy: 0.7141 - val_loss: 1.1581 - val_accuracy: 0.7160\n",
            "Epoch 34/100\n",
            "31/31 [==============================] - 0s 12ms/step - loss: 1.1305 - accuracy: 0.7141 - val_loss: 1.1566 - val_accuracy: 0.7160\n",
            "Epoch 35/100\n",
            "31/31 [==============================] - 1s 17ms/step - loss: 1.1249 - accuracy: 0.7141 - val_loss: 1.1552 - val_accuracy: 0.7160\n",
            "Epoch 36/100\n",
            "31/31 [==============================] - 1s 19ms/step - loss: 1.1186 - accuracy: 0.7141 - val_loss: 1.1696 - val_accuracy: 0.7160\n",
            "Epoch 37/100\n",
            "31/31 [==============================] - 1s 21ms/step - loss: 1.1138 - accuracy: 0.7141 - val_loss: 1.1584 - val_accuracy: 0.7160\n",
            "Epoch 38/100\n",
            "31/31 [==============================] - 1s 23ms/step - loss: 1.1153 - accuracy: 0.7121 - val_loss: 1.1500 - val_accuracy: 0.7160\n",
            "Epoch 39/100\n",
            "31/31 [==============================] - 1s 20ms/step - loss: 1.0940 - accuracy: 0.7090 - val_loss: 1.2404 - val_accuracy: 0.7136\n",
            "Epoch 40/100\n",
            "31/31 [==============================] - 0s 12ms/step - loss: 1.1493 - accuracy: 0.7131 - val_loss: 1.1627 - val_accuracy: 0.7208\n",
            "Epoch 41/100\n",
            "31/31 [==============================] - 0s 12ms/step - loss: 1.1158 - accuracy: 0.7152 - val_loss: 1.1644 - val_accuracy: 0.7208\n",
            "Epoch 42/100\n",
            "31/31 [==============================] - 0s 12ms/step - loss: 1.1123 - accuracy: 0.7141 - val_loss: 1.1634 - val_accuracy: 0.7160\n",
            "Epoch 43/100\n",
            "31/31 [==============================] - 0s 12ms/step - loss: 1.1009 - accuracy: 0.7141 - val_loss: 1.1644 - val_accuracy: 0.7160\n",
            "Epoch 44/100\n",
            "31/31 [==============================] - 0s 12ms/step - loss: 1.0838 - accuracy: 0.7141 - val_loss: 1.1409 - val_accuracy: 0.7160\n",
            "Epoch 45/100\n",
            "31/31 [==============================] - 0s 12ms/step - loss: 1.0740 - accuracy: 0.7141 - val_loss: 1.1362 - val_accuracy: 0.7160\n",
            "Epoch 46/100\n",
            "31/31 [==============================] - 0s 13ms/step - loss: 1.0580 - accuracy: 0.7141 - val_loss: 1.1574 - val_accuracy: 0.7112\n",
            "Epoch 47/100\n",
            "31/31 [==============================] - 0s 12ms/step - loss: 1.0600 - accuracy: 0.7111 - val_loss: 1.1354 - val_accuracy: 0.7160\n",
            "Epoch 48/100\n",
            "31/31 [==============================] - 0s 12ms/step - loss: 1.0495 - accuracy: 0.7162 - val_loss: 1.1674 - val_accuracy: 0.7232\n",
            "Epoch 49/100\n",
            "31/31 [==============================] - 0s 12ms/step - loss: 1.0486 - accuracy: 0.7172 - val_loss: 1.1189 - val_accuracy: 0.7160\n",
            "Epoch 50/100\n",
            "31/31 [==============================] - 0s 12ms/step - loss: 1.0327 - accuracy: 0.7182 - val_loss: 1.0982 - val_accuracy: 0.7136\n",
            "Epoch 51/100\n",
            "31/31 [==============================] - 0s 12ms/step - loss: 1.0325 - accuracy: 0.7193 - val_loss: 1.0988 - val_accuracy: 0.7136\n",
            "Epoch 52/100\n",
            "31/31 [==============================] - 0s 14ms/step - loss: 1.0327 - accuracy: 0.7213 - val_loss: 1.1185 - val_accuracy: 0.7112\n",
            "Epoch 53/100\n",
            "31/31 [==============================] - 0s 13ms/step - loss: 1.0332 - accuracy: 0.7121 - val_loss: 1.1452 - val_accuracy: 0.7136\n",
            "Epoch 54/100\n",
            "31/31 [==============================] - 0s 12ms/step - loss: 1.0155 - accuracy: 0.7162 - val_loss: 1.1014 - val_accuracy: 0.7064\n",
            "Epoch 55/100\n",
            "31/31 [==============================] - 0s 13ms/step - loss: 1.0046 - accuracy: 0.7172 - val_loss: 1.0830 - val_accuracy: 0.7112\n",
            "Epoch 56/100\n",
            "31/31 [==============================] - 0s 12ms/step - loss: 0.9889 - accuracy: 0.7203 - val_loss: 1.0718 - val_accuracy: 0.7160\n",
            "Epoch 57/100\n",
            "31/31 [==============================] - 0s 13ms/step - loss: 0.9863 - accuracy: 0.7203 - val_loss: 1.0908 - val_accuracy: 0.7279\n",
            "Epoch 58/100\n",
            "31/31 [==============================] - 0s 12ms/step - loss: 1.0034 - accuracy: 0.7162 - val_loss: 1.0863 - val_accuracy: 0.6945\n",
            "Epoch 59/100\n",
            "31/31 [==============================] - 0s 12ms/step - loss: 1.0010 - accuracy: 0.7141 - val_loss: 1.0599 - val_accuracy: 0.7208\n",
            "Epoch 60/100\n",
            "31/31 [==============================] - 0s 13ms/step - loss: 0.9977 - accuracy: 0.7193 - val_loss: 1.0790 - val_accuracy: 0.6969\n",
            "Epoch 61/100\n",
            "31/31 [==============================] - 1s 18ms/step - loss: 0.9802 - accuracy: 0.7193 - val_loss: 1.1096 - val_accuracy: 0.7232\n",
            "Epoch 62/100\n",
            "31/31 [==============================] - 1s 25ms/step - loss: 0.9752 - accuracy: 0.7244 - val_loss: 1.0620 - val_accuracy: 0.7136\n",
            "Epoch 63/100\n",
            "31/31 [==============================] - 1s 31ms/step - loss: 1.0017 - accuracy: 0.7162 - val_loss: 1.1629 - val_accuracy: 0.7017\n",
            "Epoch 64/100\n",
            "31/31 [==============================] - 1s 36ms/step - loss: 1.0284 - accuracy: 0.7131 - val_loss: 1.1024 - val_accuracy: 0.7136\n",
            "Epoch 65/100\n",
            "31/31 [==============================] - 1s 34ms/step - loss: 0.9916 - accuracy: 0.7234 - val_loss: 1.0934 - val_accuracy: 0.7112\n",
            "Epoch 66/100\n",
            "31/31 [==============================] - 1s 30ms/step - loss: 0.9739 - accuracy: 0.7244 - val_loss: 1.0800 - val_accuracy: 0.7136\n",
            "Epoch 67/100\n",
            "31/31 [==============================] - 1s 21ms/step - loss: 0.9663 - accuracy: 0.7234 - val_loss: 1.0791 - val_accuracy: 0.7112\n",
            "Epoch 68/100\n",
            "31/31 [==============================] - 0s 13ms/step - loss: 0.9626 - accuracy: 0.7254 - val_loss: 1.0831 - val_accuracy: 0.7136\n",
            "Epoch 69/100\n",
            "31/31 [==============================] - 0s 12ms/step - loss: 0.9572 - accuracy: 0.7254 - val_loss: 1.0796 - val_accuracy: 0.7112\n",
            "Epoch 70/100\n",
            "31/31 [==============================] - 0s 13ms/step - loss: 0.9510 - accuracy: 0.7244 - val_loss: 1.0753 - val_accuracy: 0.7136\n",
            "Epoch 71/100\n",
            "31/31 [==============================] - 0s 12ms/step - loss: 0.9504 - accuracy: 0.7234 - val_loss: 1.0889 - val_accuracy: 0.7112\n",
            "Epoch 72/100\n",
            "31/31 [==============================] - 0s 13ms/step - loss: 0.9529 - accuracy: 0.7264 - val_loss: 1.0712 - val_accuracy: 0.7184\n",
            "Epoch 73/100\n",
            "31/31 [==============================] - 0s 13ms/step - loss: 0.9427 - accuracy: 0.7254 - val_loss: 1.0758 - val_accuracy: 0.7160\n",
            "Epoch 74/100\n",
            "31/31 [==============================] - 0s 12ms/step - loss: 0.9450 - accuracy: 0.7203 - val_loss: 1.0694 - val_accuracy: 0.7184\n",
            "Epoch 75/100\n",
            "31/31 [==============================] - 0s 13ms/step - loss: 0.9415 - accuracy: 0.7275 - val_loss: 1.0776 - val_accuracy: 0.7136\n",
            "Epoch 76/100\n",
            "31/31 [==============================] - 0s 12ms/step - loss: 0.9450 - accuracy: 0.7275 - val_loss: 1.1039 - val_accuracy: 0.7208\n",
            "Epoch 77/100\n",
            "31/31 [==============================] - 0s 12ms/step - loss: 0.9520 - accuracy: 0.7162 - val_loss: 1.0706 - val_accuracy: 0.7112\n",
            "Epoch 78/100\n",
            "31/31 [==============================] - 0s 13ms/step - loss: 0.9611 - accuracy: 0.7213 - val_loss: 1.0874 - val_accuracy: 0.7112\n",
            "Epoch 79/100\n",
            "31/31 [==============================] - 0s 12ms/step - loss: 0.9385 - accuracy: 0.7244 - val_loss: 1.0750 - val_accuracy: 0.7112\n",
            "Epoch 80/100\n",
            "31/31 [==============================] - 0s 12ms/step - loss: 0.9324 - accuracy: 0.7203 - val_loss: 1.0740 - val_accuracy: 0.7112\n",
            "Epoch 81/100\n",
            "31/31 [==============================] - 0s 12ms/step - loss: 0.9266 - accuracy: 0.7244 - val_loss: 1.0690 - val_accuracy: 0.7136\n",
            "Epoch 82/100\n",
            "31/31 [==============================] - 0s 12ms/step - loss: 0.9388 - accuracy: 0.7193 - val_loss: 1.0805 - val_accuracy: 0.7112\n",
            "Epoch 83/100\n",
            "31/31 [==============================] - 0s 12ms/step - loss: 0.9143 - accuracy: 0.7275 - val_loss: 1.0687 - val_accuracy: 0.7184\n",
            "Epoch 84/100\n",
            "31/31 [==============================] - 0s 12ms/step - loss: 0.9193 - accuracy: 0.7295 - val_loss: 1.0757 - val_accuracy: 0.7136\n",
            "Epoch 85/100\n",
            "31/31 [==============================] - 0s 12ms/step - loss: 0.9311 - accuracy: 0.7152 - val_loss: 1.0867 - val_accuracy: 0.7112\n",
            "Epoch 86/100\n",
            "31/31 [==============================] - 0s 12ms/step - loss: 0.9207 - accuracy: 0.7244 - val_loss: 1.0769 - val_accuracy: 0.7160\n",
            "Epoch 87/100\n",
            "31/31 [==============================] - 0s 12ms/step - loss: 0.9129 - accuracy: 0.7305 - val_loss: 1.0763 - val_accuracy: 0.7232\n",
            "Epoch 88/100\n",
            "31/31 [==============================] - 0s 12ms/step - loss: 0.9095 - accuracy: 0.7254 - val_loss: 1.0704 - val_accuracy: 0.7160\n",
            "Epoch 89/100\n",
            "31/31 [==============================] - 0s 12ms/step - loss: 0.9204 - accuracy: 0.7285 - val_loss: 1.0785 - val_accuracy: 0.7255\n",
            "Epoch 90/100\n",
            "31/31 [==============================] - 0s 16ms/step - loss: 0.9088 - accuracy: 0.7254 - val_loss: 1.0659 - val_accuracy: 0.7184\n",
            "Epoch 91/100\n",
            "31/31 [==============================] - 1s 21ms/step - loss: 0.9103 - accuracy: 0.7254 - val_loss: 1.0822 - val_accuracy: 0.6969\n",
            "Epoch 92/100\n",
            "31/31 [==============================] - 1s 23ms/step - loss: 0.9024 - accuracy: 0.7234 - val_loss: 1.0746 - val_accuracy: 0.7136\n",
            "Epoch 93/100\n",
            "31/31 [==============================] - 1s 23ms/step - loss: 0.8984 - accuracy: 0.7264 - val_loss: 1.0868 - val_accuracy: 0.7208\n",
            "Epoch 94/100\n",
            "31/31 [==============================] - 1s 19ms/step - loss: 0.9153 - accuracy: 0.7172 - val_loss: 1.0878 - val_accuracy: 0.7255\n",
            "Epoch 95/100\n",
            "31/31 [==============================] - 0s 13ms/step - loss: 0.8945 - accuracy: 0.7254 - val_loss: 1.0705 - val_accuracy: 0.7112\n",
            "Epoch 96/100\n",
            "31/31 [==============================] - 0s 13ms/step - loss: 0.8926 - accuracy: 0.7285 - val_loss: 1.0797 - val_accuracy: 0.7160\n",
            "Epoch 97/100\n",
            "31/31 [==============================] - 0s 12ms/step - loss: 0.8890 - accuracy: 0.7254 - val_loss: 1.0822 - val_accuracy: 0.6993\n",
            "Epoch 98/100\n",
            "31/31 [==============================] - 0s 12ms/step - loss: 0.8823 - accuracy: 0.7285 - val_loss: 1.0816 - val_accuracy: 0.7160\n",
            "Epoch 99/100\n",
            "31/31 [==============================] - 0s 13ms/step - loss: 0.8945 - accuracy: 0.7295 - val_loss: 1.0861 - val_accuracy: 0.7041\n",
            "Epoch 100/100\n",
            "31/31 [==============================] - 0s 12ms/step - loss: 0.8831 - accuracy: 0.7346 - val_loss: 1.0760 - val_accuracy: 0.7184\n"
          ]
        },
        {
          "output_type": "execute_result",
          "data": {
            "text/plain": [
              "<keras.callbacks.History at 0x7cb030a95d50>"
            ]
          },
          "metadata": {},
          "execution_count": 12
        }
      ]
    },
    {
      "cell_type": "code",
      "source": [
        "#ModelEvaluation\n",
        "y_pred = np.argmax(model.predict(x_test),axis = 1)\n",
        "y_test = np.argmax(y_test, axis = 1)\n",
        "print(accuracy_score(y_pred,y_test))"
      ],
      "metadata": {
        "colab": {
          "base_uri": "https://localhost:8080/"
        },
        "id": "-ME1sxTbVazP",
        "outputId": "b285f32c-6a71-4df4-f82f-72c7f4fe9ab7"
      },
      "execution_count": null,
      "outputs": [
        {
          "output_type": "stream",
          "name": "stdout",
          "text": [
            "19/19 [==============================] - 0s 4ms/step\n",
            "0.7295492487479132\n"
          ]
        }
      ]
    },
    {
      "cell_type": "code",
      "source": [
        "#LSTM\n",
        "#ModelCreation\n",
        "ls = Sequential()\n",
        "ls.add(LSTM(50, input_shape=(49,1)))\n",
        "ls.add(Dense(46))\n",
        "ls.add(Activation('softmax'))"
      ],
      "metadata": {
        "id": "TwVoI6XBVaw3"
      },
      "execution_count": null,
      "outputs": []
    },
    {
      "cell_type": "code",
      "source": [
        "from keras import metrics\n",
        "adam = Adam(lr = 0.001)"
      ],
      "metadata": {
        "colab": {
          "base_uri": "https://localhost:8080/"
        },
        "id": "uDdTwK3-Vasv",
        "outputId": "c7d7292d-58c4-410b-b723-3a7a673593ba"
      },
      "execution_count": null,
      "outputs": [
        {
          "output_type": "stream",
          "name": "stderr",
          "text": [
            "WARNING:absl:`lr` is deprecated in Keras optimizer, please use `learning_rate` or use the legacy optimizer, e.g.,tf.keras.optimizers.legacy.Adam.\n"
          ]
        }
      ]
    },
    {
      "cell_type": "code",
      "source": [
        "#Modelcompilation\n",
        "ls.compile(loss = 'categorical_crossentropy', optimizer = adam, metrics = ['accuracy'])\n",
        "ls.fit(x_train,y_train, epochs = 100, validation_split=0.3)"
      ],
      "metadata": {
        "colab": {
          "base_uri": "https://localhost:8080/"
        },
        "id": "BrNKlZl8VanP",
        "outputId": "d10c3367-43b5-428a-87c8-550a7814e6dd"
      },
      "execution_count": null,
      "outputs": [
        {
          "output_type": "stream",
          "name": "stdout",
          "text": [
            "Epoch 1/100\n",
            "31/31 [==============================] - 8s 88ms/step - loss: 3.0608 - accuracy: 0.6311 - val_loss: 1.6520 - val_accuracy: 0.7160\n",
            "Epoch 2/100\n",
            "31/31 [==============================] - 1s 33ms/step - loss: 1.3491 - accuracy: 0.7141 - val_loss: 1.1933 - val_accuracy: 0.7160\n",
            "Epoch 3/100\n",
            "31/31 [==============================] - 1s 27ms/step - loss: 1.1729 - accuracy: 0.7141 - val_loss: 1.1456 - val_accuracy: 0.7160\n",
            "Epoch 4/100\n",
            "31/31 [==============================] - 1s 25ms/step - loss: 1.1343 - accuracy: 0.7141 - val_loss: 1.1287 - val_accuracy: 0.7160\n",
            "Epoch 5/100\n",
            "31/31 [==============================] - 1s 24ms/step - loss: 1.1199 - accuracy: 0.7141 - val_loss: 1.1211 - val_accuracy: 0.7160\n",
            "Epoch 6/100\n",
            "31/31 [==============================] - 1s 25ms/step - loss: 1.1046 - accuracy: 0.7141 - val_loss: 1.0970 - val_accuracy: 0.7160\n",
            "Epoch 7/100\n",
            "31/31 [==============================] - 1s 27ms/step - loss: 1.0920 - accuracy: 0.7141 - val_loss: 1.0960 - val_accuracy: 0.7160\n",
            "Epoch 8/100\n",
            "31/31 [==============================] - 3s 109ms/step - loss: 1.0919 - accuracy: 0.7141 - val_loss: 1.0843 - val_accuracy: 0.7160\n",
            "Epoch 9/100\n",
            "31/31 [==============================] - 2s 65ms/step - loss: 1.0780 - accuracy: 0.7141 - val_loss: 1.0772 - val_accuracy: 0.7160\n",
            "Epoch 10/100\n",
            "31/31 [==============================] - 2s 68ms/step - loss: 1.0659 - accuracy: 0.7141 - val_loss: 1.0552 - val_accuracy: 0.7160\n",
            "Epoch 11/100\n",
            "31/31 [==============================] - 1s 49ms/step - loss: 1.0265 - accuracy: 0.7346 - val_loss: 1.0119 - val_accuracy: 0.7208\n",
            "Epoch 12/100\n",
            "31/31 [==============================] - 1s 34ms/step - loss: 0.9652 - accuracy: 0.7572 - val_loss: 0.8842 - val_accuracy: 0.7852\n",
            "Epoch 13/100\n",
            "31/31 [==============================] - 1s 26ms/step - loss: 0.8884 - accuracy: 0.7828 - val_loss: 0.8632 - val_accuracy: 0.7804\n",
            "Epoch 14/100\n",
            "31/31 [==============================] - 1s 24ms/step - loss: 0.8928 - accuracy: 0.7859 - val_loss: 0.9484 - val_accuracy: 0.7924\n",
            "Epoch 15/100\n",
            "31/31 [==============================] - 1s 25ms/step - loss: 0.8490 - accuracy: 0.7971 - val_loss: 0.8219 - val_accuracy: 0.8091\n",
            "Epoch 16/100\n",
            "31/31 [==============================] - 1s 27ms/step - loss: 0.8231 - accuracy: 0.8033 - val_loss: 0.7971 - val_accuracy: 0.8210\n",
            "Epoch 17/100\n",
            "31/31 [==============================] - 1s 41ms/step - loss: 0.8392 - accuracy: 0.7971 - val_loss: 0.9127 - val_accuracy: 0.7637\n",
            "Epoch 18/100\n",
            "31/31 [==============================] - 1s 42ms/step - loss: 0.8270 - accuracy: 0.7951 - val_loss: 0.8263 - val_accuracy: 0.7876\n",
            "Epoch 19/100\n",
            "31/31 [==============================] - 1s 25ms/step - loss: 0.8074 - accuracy: 0.8012 - val_loss: 0.7954 - val_accuracy: 0.8067\n",
            "Epoch 20/100\n",
            "31/31 [==============================] - 1s 32ms/step - loss: 0.7867 - accuracy: 0.8135 - val_loss: 0.7796 - val_accuracy: 0.8162\n",
            "Epoch 21/100\n",
            "31/31 [==============================] - 2s 51ms/step - loss: 0.7765 - accuracy: 0.8186 - val_loss: 0.7606 - val_accuracy: 0.8210\n",
            "Epoch 22/100\n",
            "31/31 [==============================] - 1s 39ms/step - loss: 0.7660 - accuracy: 0.8156 - val_loss: 0.7825 - val_accuracy: 0.8115\n",
            "Epoch 23/100\n",
            "31/31 [==============================] - 1s 37ms/step - loss: 0.7596 - accuracy: 0.8238 - val_loss: 0.7579 - val_accuracy: 0.8210\n",
            "Epoch 24/100\n",
            "31/31 [==============================] - 2s 52ms/step - loss: 0.7688 - accuracy: 0.8268 - val_loss: 0.8200 - val_accuracy: 0.7995\n",
            "Epoch 25/100\n",
            "31/31 [==============================] - 1s 39ms/step - loss: 0.7809 - accuracy: 0.8207 - val_loss: 0.7828 - val_accuracy: 0.8067\n",
            "Epoch 26/100\n",
            "31/31 [==============================] - 1s 40ms/step - loss: 0.7483 - accuracy: 0.8176 - val_loss: 0.7714 - val_accuracy: 0.8115\n",
            "Epoch 27/100\n",
            "31/31 [==============================] - 2s 56ms/step - loss: 0.7368 - accuracy: 0.8299 - val_loss: 0.7642 - val_accuracy: 0.8186\n",
            "Epoch 28/100\n",
            "31/31 [==============================] - 2s 54ms/step - loss: 0.7399 - accuracy: 0.8248 - val_loss: 0.7513 - val_accuracy: 0.8162\n",
            "Epoch 29/100\n",
            "31/31 [==============================] - 1s 41ms/step - loss: 0.7354 - accuracy: 0.8217 - val_loss: 0.7548 - val_accuracy: 0.8210\n",
            "Epoch 30/100\n",
            "31/31 [==============================] - 2s 58ms/step - loss: 0.7170 - accuracy: 0.8320 - val_loss: 0.7590 - val_accuracy: 0.8210\n",
            "Epoch 31/100\n",
            "31/31 [==============================] - 1s 40ms/step - loss: 0.7191 - accuracy: 0.8299 - val_loss: 0.7498 - val_accuracy: 0.8210\n",
            "Epoch 32/100\n",
            "31/31 [==============================] - 1s 25ms/step - loss: 0.7204 - accuracy: 0.8309 - val_loss: 0.7462 - val_accuracy: 0.8210\n",
            "Epoch 33/100\n",
            "31/31 [==============================] - 1s 45ms/step - loss: 0.7154 - accuracy: 0.8299 - val_loss: 0.7450 - val_accuracy: 0.8210\n",
            "Epoch 34/100\n",
            "31/31 [==============================] - 1s 43ms/step - loss: 0.7103 - accuracy: 0.8299 - val_loss: 0.7470 - val_accuracy: 0.8258\n",
            "Epoch 35/100\n",
            "31/31 [==============================] - 1s 26ms/step - loss: 0.7170 - accuracy: 0.8289 - val_loss: 0.7540 - val_accuracy: 0.8138\n",
            "Epoch 36/100\n",
            "31/31 [==============================] - 1s 25ms/step - loss: 0.7001 - accuracy: 0.8350 - val_loss: 0.7438 - val_accuracy: 0.8186\n",
            "Epoch 37/100\n",
            "31/31 [==============================] - 1s 33ms/step - loss: 0.7245 - accuracy: 0.8289 - val_loss: 0.7430 - val_accuracy: 0.8186\n",
            "Epoch 38/100\n",
            "31/31 [==============================] - 1s 44ms/step - loss: 0.7087 - accuracy: 0.8268 - val_loss: 0.7644 - val_accuracy: 0.8186\n",
            "Epoch 39/100\n",
            "31/31 [==============================] - 1s 35ms/step - loss: 0.6995 - accuracy: 0.8309 - val_loss: 0.7477 - val_accuracy: 0.8210\n",
            "Epoch 40/100\n",
            "31/31 [==============================] - 1s 25ms/step - loss: 0.6927 - accuracy: 0.8381 - val_loss: 0.7618 - val_accuracy: 0.8186\n",
            "Epoch 41/100\n",
            "31/31 [==============================] - 1s 25ms/step - loss: 0.7037 - accuracy: 0.8299 - val_loss: 0.7521 - val_accuracy: 0.8186\n",
            "Epoch 42/100\n",
            "31/31 [==============================] - 1s 25ms/step - loss: 0.7077 - accuracy: 0.8330 - val_loss: 0.7623 - val_accuracy: 0.8210\n",
            "Epoch 43/100\n",
            "31/31 [==============================] - 1s 26ms/step - loss: 0.6899 - accuracy: 0.8309 - val_loss: 0.7377 - val_accuracy: 0.8234\n",
            "Epoch 44/100\n",
            "31/31 [==============================] - 1s 26ms/step - loss: 0.6881 - accuracy: 0.8361 - val_loss: 0.7462 - val_accuracy: 0.8234\n",
            "Epoch 45/100\n",
            "31/31 [==============================] - 1s 25ms/step - loss: 0.6844 - accuracy: 0.8371 - val_loss: 0.7746 - val_accuracy: 0.8138\n",
            "Epoch 46/100\n",
            "31/31 [==============================] - 1s 27ms/step - loss: 0.6886 - accuracy: 0.8391 - val_loss: 0.8178 - val_accuracy: 0.7995\n",
            "Epoch 47/100\n",
            "31/31 [==============================] - 2s 66ms/step - loss: 0.6814 - accuracy: 0.8309 - val_loss: 0.7430 - val_accuracy: 0.8234\n",
            "Epoch 48/100\n",
            "31/31 [==============================] - 2s 50ms/step - loss: 0.6665 - accuracy: 0.8412 - val_loss: 0.7329 - val_accuracy: 0.8282\n",
            "Epoch 49/100\n",
            "31/31 [==============================] - 2s 53ms/step - loss: 0.6738 - accuracy: 0.8402 - val_loss: 0.7448 - val_accuracy: 0.8234\n",
            "Epoch 50/100\n",
            "31/31 [==============================] - 2s 50ms/step - loss: 0.6579 - accuracy: 0.8453 - val_loss: 0.7495 - val_accuracy: 0.8305\n",
            "Epoch 51/100\n",
            "31/31 [==============================] - 1s 45ms/step - loss: 0.6552 - accuracy: 0.8484 - val_loss: 0.7251 - val_accuracy: 0.8329\n",
            "Epoch 52/100\n",
            "31/31 [==============================] - 1s 42ms/step - loss: 0.6555 - accuracy: 0.8453 - val_loss: 0.7303 - val_accuracy: 0.8234\n",
            "Epoch 53/100\n",
            "31/31 [==============================] - 1s 25ms/step - loss: 0.6436 - accuracy: 0.8473 - val_loss: 0.7292 - val_accuracy: 0.8329\n",
            "Epoch 54/100\n",
            "31/31 [==============================] - 1s 28ms/step - loss: 0.6277 - accuracy: 0.8514 - val_loss: 0.7456 - val_accuracy: 0.8258\n",
            "Epoch 55/100\n",
            "31/31 [==============================] - 1s 26ms/step - loss: 0.6441 - accuracy: 0.8443 - val_loss: 0.7378 - val_accuracy: 0.8329\n",
            "Epoch 56/100\n",
            "31/31 [==============================] - 1s 25ms/step - loss: 0.6195 - accuracy: 0.8576 - val_loss: 0.7623 - val_accuracy: 0.8258\n",
            "Epoch 57/100\n",
            "31/31 [==============================] - 1s 26ms/step - loss: 0.6145 - accuracy: 0.8504 - val_loss: 0.7302 - val_accuracy: 0.8377\n",
            "Epoch 58/100\n",
            "31/31 [==============================] - 1s 25ms/step - loss: 0.6187 - accuracy: 0.8484 - val_loss: 0.7202 - val_accuracy: 0.8473\n",
            "Epoch 59/100\n",
            "31/31 [==============================] - 1s 25ms/step - loss: 0.6115 - accuracy: 0.8535 - val_loss: 0.7290 - val_accuracy: 0.8401\n",
            "Epoch 60/100\n",
            "31/31 [==============================] - 1s 27ms/step - loss: 0.6117 - accuracy: 0.8525 - val_loss: 0.7223 - val_accuracy: 0.8401\n",
            "Epoch 61/100\n",
            "31/31 [==============================] - 2s 59ms/step - loss: 0.6056 - accuracy: 0.8525 - val_loss: 0.7415 - val_accuracy: 0.8377\n",
            "Epoch 62/100\n",
            "31/31 [==============================] - 2s 77ms/step - loss: 0.6050 - accuracy: 0.8514 - val_loss: 0.7100 - val_accuracy: 0.8401\n",
            "Epoch 63/100\n",
            "31/31 [==============================] - 1s 42ms/step - loss: 0.5912 - accuracy: 0.8525 - val_loss: 0.7252 - val_accuracy: 0.8377\n",
            "Epoch 64/100\n",
            "31/31 [==============================] - 1s 39ms/step - loss: 0.5887 - accuracy: 0.8576 - val_loss: 0.7310 - val_accuracy: 0.8353\n",
            "Epoch 65/100\n",
            "31/31 [==============================] - 1s 39ms/step - loss: 0.6094 - accuracy: 0.8504 - val_loss: 0.7512 - val_accuracy: 0.8377\n",
            "Epoch 66/100\n",
            "31/31 [==============================] - 1s 41ms/step - loss: 0.5862 - accuracy: 0.8535 - val_loss: 0.7196 - val_accuracy: 0.8401\n",
            "Epoch 67/100\n",
            "31/31 [==============================] - 1s 46ms/step - loss: 0.5748 - accuracy: 0.8545 - val_loss: 0.7140 - val_accuracy: 0.8353\n",
            "Epoch 68/100\n",
            "31/31 [==============================] - 1s 30ms/step - loss: 0.5786 - accuracy: 0.8525 - val_loss: 0.7392 - val_accuracy: 0.8377\n",
            "Epoch 69/100\n",
            "31/31 [==============================] - 1s 25ms/step - loss: 0.5969 - accuracy: 0.8504 - val_loss: 0.7163 - val_accuracy: 0.8401\n",
            "Epoch 70/100\n",
            "31/31 [==============================] - 1s 25ms/step - loss: 0.5819 - accuracy: 0.8525 - val_loss: 0.7069 - val_accuracy: 0.8425\n",
            "Epoch 71/100\n",
            "31/31 [==============================] - 1s 36ms/step - loss: 0.5691 - accuracy: 0.8586 - val_loss: 0.7366 - val_accuracy: 0.8353\n",
            "Epoch 72/100\n",
            "31/31 [==============================] - 2s 62ms/step - loss: 0.5742 - accuracy: 0.8566 - val_loss: 0.7453 - val_accuracy: 0.8353\n",
            "Epoch 73/100\n",
            "31/31 [==============================] - 1s 45ms/step - loss: 0.5666 - accuracy: 0.8566 - val_loss: 0.7074 - val_accuracy: 0.8377\n",
            "Epoch 74/100\n",
            "31/31 [==============================] - 1s 25ms/step - loss: 0.5639 - accuracy: 0.8545 - val_loss: 0.7230 - val_accuracy: 0.8353\n",
            "Epoch 75/100\n",
            "31/31 [==============================] - 1s 26ms/step - loss: 0.5569 - accuracy: 0.8617 - val_loss: 0.7102 - val_accuracy: 0.8377\n",
            "Epoch 76/100\n",
            "31/31 [==============================] - 1s 25ms/step - loss: 0.5438 - accuracy: 0.8607 - val_loss: 0.7028 - val_accuracy: 0.8473\n",
            "Epoch 77/100\n",
            "31/31 [==============================] - 1s 26ms/step - loss: 0.5485 - accuracy: 0.8607 - val_loss: 0.7529 - val_accuracy: 0.8329\n",
            "Epoch 78/100\n",
            "31/31 [==============================] - 1s 36ms/step - loss: 0.5372 - accuracy: 0.8637 - val_loss: 0.7175 - val_accuracy: 0.8425\n",
            "Epoch 79/100\n",
            "31/31 [==============================] - 1s 26ms/step - loss: 0.5359 - accuracy: 0.8637 - val_loss: 0.7516 - val_accuracy: 0.8258\n",
            "Epoch 80/100\n",
            "31/31 [==============================] - 1s 26ms/step - loss: 0.5315 - accuracy: 0.8607 - val_loss: 0.7384 - val_accuracy: 0.8377\n",
            "Epoch 81/100\n",
            "31/31 [==============================] - 1s 26ms/step - loss: 0.5507 - accuracy: 0.8566 - val_loss: 0.7332 - val_accuracy: 0.8449\n",
            "Epoch 82/100\n",
            "31/31 [==============================] - 1s 25ms/step - loss: 0.5487 - accuracy: 0.8586 - val_loss: 0.7444 - val_accuracy: 0.8377\n",
            "Epoch 83/100\n",
            "31/31 [==============================] - 1s 26ms/step - loss: 0.5612 - accuracy: 0.8545 - val_loss: 0.7621 - val_accuracy: 0.8329\n",
            "Epoch 84/100\n",
            "31/31 [==============================] - 1s 26ms/step - loss: 0.5581 - accuracy: 0.8494 - val_loss: 0.7462 - val_accuracy: 0.8353\n",
            "Epoch 85/100\n",
            "31/31 [==============================] - 1s 28ms/step - loss: 0.5560 - accuracy: 0.8545 - val_loss: 0.7341 - val_accuracy: 0.8282\n",
            "Epoch 86/100\n",
            "31/31 [==============================] - 1s 43ms/step - loss: 0.5375 - accuracy: 0.8617 - val_loss: 0.7654 - val_accuracy: 0.8258\n",
            "Epoch 87/100\n",
            "31/31 [==============================] - 1s 43ms/step - loss: 0.5300 - accuracy: 0.8607 - val_loss: 0.7149 - val_accuracy: 0.8473\n",
            "Epoch 88/100\n",
            "31/31 [==============================] - 1s 25ms/step - loss: 0.5227 - accuracy: 0.8627 - val_loss: 0.7014 - val_accuracy: 0.8449\n",
            "Epoch 89/100\n",
            "31/31 [==============================] - 1s 27ms/step - loss: 0.4987 - accuracy: 0.8709 - val_loss: 0.7213 - val_accuracy: 0.8401\n",
            "Epoch 90/100\n",
            "31/31 [==============================] - 1s 27ms/step - loss: 0.5469 - accuracy: 0.8607 - val_loss: 0.7315 - val_accuracy: 0.8353\n",
            "Epoch 91/100\n",
            "31/31 [==============================] - 1s 26ms/step - loss: 0.5213 - accuracy: 0.8678 - val_loss: 0.7512 - val_accuracy: 0.8353\n",
            "Epoch 92/100\n",
            "31/31 [==============================] - 1s 28ms/step - loss: 0.5104 - accuracy: 0.8658 - val_loss: 0.7070 - val_accuracy: 0.8425\n",
            "Epoch 93/100\n",
            "31/31 [==============================] - 1s 26ms/step - loss: 0.4876 - accuracy: 0.8709 - val_loss: 0.7071 - val_accuracy: 0.8449\n",
            "Epoch 94/100\n",
            "31/31 [==============================] - 1s 30ms/step - loss: 0.4908 - accuracy: 0.8689 - val_loss: 0.7229 - val_accuracy: 0.8401\n",
            "Epoch 95/100\n",
            "31/31 [==============================] - 1s 26ms/step - loss: 0.4909 - accuracy: 0.8699 - val_loss: 0.7198 - val_accuracy: 0.8401\n",
            "Epoch 96/100\n",
            "31/31 [==============================] - 1s 26ms/step - loss: 0.4960 - accuracy: 0.8678 - val_loss: 0.7354 - val_accuracy: 0.8401\n",
            "Epoch 97/100\n",
            "31/31 [==============================] - 1s 27ms/step - loss: 0.5427 - accuracy: 0.8586 - val_loss: 0.6988 - val_accuracy: 0.8544\n",
            "Epoch 98/100\n",
            "31/31 [==============================] - 1s 26ms/step - loss: 0.4927 - accuracy: 0.8689 - val_loss: 0.7439 - val_accuracy: 0.8329\n",
            "Epoch 99/100\n",
            "31/31 [==============================] - 1s 28ms/step - loss: 0.4713 - accuracy: 0.8760 - val_loss: 0.7432 - val_accuracy: 0.8234\n",
            "Epoch 100/100\n",
            "31/31 [==============================] - 1s 46ms/step - loss: 0.5095 - accuracy: 0.8637 - val_loss: 0.7317 - val_accuracy: 0.8425\n"
          ]
        },
        {
          "output_type": "execute_result",
          "data": {
            "text/plain": [
              "<keras.callbacks.History at 0x7cb02e809750>"
            ]
          },
          "metadata": {},
          "execution_count": 17
        }
      ]
    },
    {
      "cell_type": "code",
      "source": [
        "#ModelEvaluation\n",
        "y_pred = np.argmax(ls.predict(x_test), axis = 1)\n",
        "print(accuracy_score(y_pred, y_test))"
      ],
      "metadata": {
        "colab": {
          "base_uri": "https://localhost:8080/"
        },
        "id": "F7Xk0hjBVaj_",
        "outputId": "71681034-406e-405c-a7b5-ef1d0e890031"
      },
      "execution_count": null,
      "outputs": [
        {
          "output_type": "stream",
          "name": "stdout",
          "text": [
            "19/19 [==============================] - 1s 7ms/step\n",
            "0.8380634390651085\n"
          ]
        }
      ]
    },
    {
      "cell_type": "code",
      "source": [
        "#GRU\n",
        "#ModelCreation\n",
        "gr = Sequential()\n",
        "gr.add(GRU(50, input_shape=(49,1)))\n",
        "gr.add(Dense(46))\n",
        "gr.add(Activation('sigmoid'))"
      ],
      "metadata": {
        "id": "YEdLHNYOWDzu"
      },
      "execution_count": null,
      "outputs": []
    },
    {
      "cell_type": "code",
      "source": [
        "#Modelcompilation\n",
        "gr.compile(loss = 'binary_crossentropy', optimizer = 'adam', metrics = ['accuracy'])\n",
        "gr.fit(x_train,y_train, epochs = 10, validation_split = 0.3)"
      ],
      "metadata": {
        "colab": {
          "base_uri": "https://localhost:8080/"
        },
        "id": "gWwgCAezWDuW",
        "outputId": "716e54c5-7741-422c-89a9-c8b535d403eb"
      },
      "execution_count": null,
      "outputs": [
        {
          "output_type": "stream",
          "name": "stdout",
          "text": [
            "Epoch 1/10\n",
            "31/31 [==============================] - 5s 74ms/step - loss: 0.6276 - accuracy: 0.5850 - val_loss: 0.4657 - val_accuracy: 0.7160\n",
            "Epoch 2/10\n",
            "31/31 [==============================] - 2s 57ms/step - loss: 0.1870 - accuracy: 0.7141 - val_loss: 0.0711 - val_accuracy: 0.7160\n",
            "Epoch 3/10\n",
            "31/31 [==============================] - 1s 44ms/step - loss: 0.0578 - accuracy: 0.7141 - val_loss: 0.0496 - val_accuracy: 0.7160\n",
            "Epoch 4/10\n",
            "31/31 [==============================] - 1s 28ms/step - loss: 0.0471 - accuracy: 0.7141 - val_loss: 0.0446 - val_accuracy: 0.7160\n",
            "Epoch 5/10\n",
            "31/31 [==============================] - 2s 54ms/step - loss: 0.0438 - accuracy: 0.7141 - val_loss: 0.0425 - val_accuracy: 0.7160\n",
            "Epoch 6/10\n",
            "31/31 [==============================] - 2s 62ms/step - loss: 0.0421 - accuracy: 0.7141 - val_loss: 0.0413 - val_accuracy: 0.7160\n",
            "Epoch 7/10\n",
            "31/31 [==============================] - 2s 61ms/step - loss: 0.0411 - accuracy: 0.7141 - val_loss: 0.0404 - val_accuracy: 0.7160\n",
            "Epoch 8/10\n",
            "31/31 [==============================] - 1s 40ms/step - loss: 0.0404 - accuracy: 0.7141 - val_loss: 0.0397 - val_accuracy: 0.7160\n",
            "Epoch 9/10\n",
            "31/31 [==============================] - 1s 28ms/step - loss: 0.0398 - accuracy: 0.7141 - val_loss: 0.0393 - val_accuracy: 0.7160\n",
            "Epoch 10/10\n",
            "31/31 [==============================] - 1s 27ms/step - loss: 0.0393 - accuracy: 0.7141 - val_loss: 0.0389 - val_accuracy: 0.7160\n"
          ]
        },
        {
          "output_type": "execute_result",
          "data": {
            "text/plain": [
              "<keras.callbacks.History at 0x7cb030503040>"
            ]
          },
          "metadata": {},
          "execution_count": 21
        }
      ]
    },
    {
      "cell_type": "code",
      "source": [
        "#ModelEvaluation\n",
        "y_pred = np.argmax(gr.predict(x_test), axis = 1)\n",
        "print(accuracy_score(y_pred, y_test))"
      ],
      "metadata": {
        "colab": {
          "base_uri": "https://localhost:8080/"
        },
        "id": "zCkL6pI0WDre",
        "outputId": "1a6a11a7-02eb-40a7-f899-8d4c308ed2c4"
      },
      "execution_count": null,
      "outputs": [
        {
          "output_type": "stream",
          "name": "stdout",
          "text": [
            "19/19 [==============================] - 0s 6ms/step\n",
            "0.7479131886477463\n"
          ]
        }
      ]
    }
  ]
}